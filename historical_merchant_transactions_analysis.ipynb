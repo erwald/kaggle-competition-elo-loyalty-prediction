{
 "cells": [
  {
   "cell_type": "markdown",
   "metadata": {},
   "source": [
    "# Analysis of historical merchant transactions\n",
    "\n",
    "_Note! If you want to commit any changes to this document, please strip all output (Cell > Current Outputs > Clear, or set up [nbstripout](https://github.com/kynan/nbstripout) as a git filter) from this notebook before doing so. Thanks!_\n"
   ]
  },
  {
   "cell_type": "markdown",
   "metadata": {},
   "source": [
    "## Import Libraries\n",
    "\n",
    "Next we import the Python libraries we'll need. If any of these are missing for you, you can install them with e.g. `pip3 install pandas` on the command line."
   ]
  },
  {
   "cell_type": "code",
   "execution_count": null,
   "metadata": {},
   "outputs": [],
   "source": [
    "import pandas as pd\n",
    "import numpy as np\n",
    "import seaborn as sns\n",
    "import matplotlib.pyplot as plt"
   ]
  },
  {
   "cell_type": "markdown",
   "metadata": {},
   "source": [
    "## Load Data\n",
    "\n",
    "Load the data into Pandas data frames and look at their structure.\n",
    "\n",
    "First thing we'll do with the training data is split it into a train and validation set. (The given test set is what we'll later make our predictions on and upload, but only after we are fully satisfied with our model.)"
   ]
  },
  {
   "cell_type": "code",
   "execution_count": null,
   "metadata": {},
   "outputs": [],
   "source": [
    "hist_trans_df = pd.read_csv('data/unzipped/historical_transactions.csv',\n",
    "                            parse_dates=['purchase_date'])"
   ]
  },
  {
   "cell_type": "code",
   "execution_count": null,
   "metadata": {},
   "outputs": [],
   "source": [
    "hist_trans_df.head()"
   ]
  },
  {
   "cell_type": "code",
   "execution_count": null,
   "metadata": {},
   "outputs": [],
   "source": [
    "hist_trans_df.shape"
   ]
  },
  {
   "cell_type": "markdown",
   "metadata": {},
   "source": [
    "## Data analysis\n",
    "\n",
    "Here we want to see if there is any way to get rid of outliers and possibly group data into something meaningful?"
   ]
  },
  {
   "cell_type": "code",
   "execution_count": null,
   "metadata": {},
   "outputs": [],
   "source": [
    "hist_trans_df['purchase_amount'].nunique()"
   ]
  },
  {
   "cell_type": "code",
   "execution_count": null,
   "metadata": {},
   "outputs": [],
   "source": [
    "numOfRows = hist_trans_df.count()\n",
    "print(numOfRows)"
   ]
  },
  {
   "cell_type": "code",
   "execution_count": null,
   "metadata": {},
   "outputs": [],
   "source": [
    "np.min(hist_trans_df['purchase_amount'])"
   ]
  },
  {
   "cell_type": "code",
   "execution_count": null,
   "metadata": {},
   "outputs": [],
   "source": [
    "np.max(hist_trans_df['purchase_amount'])"
   ]
  },
  {
   "cell_type": "code",
   "execution_count": null,
   "metadata": {},
   "outputs": [],
   "source": [
    "np.var(hist_trans_df['purchase_amount'])"
   ]
  },
  {
   "cell_type": "code",
   "execution_count": null,
   "metadata": {},
   "outputs": [],
   "source": [
    "# here I must add a new feature based on range and then plot that feature\n",
    "#plt.hist(hist_trans_df['purchase_amount'], bins=\"scott\")\n",
    "#plt.xlabel('purchase amount')\n",
    "#plt.ylabel('number of occurences')"
   ]
  },
  {
   "cell_type": "code",
   "execution_count": null,
   "metadata": {},
   "outputs": [],
   "source": [
    "(hist_trans_df['purchase_amount']).count()"
   ]
  },
  {
   "cell_type": "code",
   "execution_count": null,
   "metadata": {},
   "outputs": [],
   "source": [
    "valueCounts = hist_trans_df['purchase_amount'].value_counts()"
   ]
  },
  {
   "cell_type": "code",
   "execution_count": null,
   "metadata": {},
   "outputs": [],
   "source": [
    "valueCounts.head()"
   ]
  },
  {
   "cell_type": "code",
   "execution_count": null,
   "metadata": {},
   "outputs": [],
   "source": [
    "hist_trans_df[hist_trans_df.groupby('purchase_amount').pid.transform(len) > 1]"
   ]
  },
  {
   "cell_type": "code",
   "execution_count": null,
   "metadata": {},
   "outputs": [],
   "source": [
    "(hist_trans_df['purchase_amount']).count()"
   ]
  },
  {
   "cell_type": "code",
   "execution_count": null,
   "metadata": {},
   "outputs": [],
   "source": [
    "((hist_trans_df['purchase_amount'] >= 0) & (hist_trans_df['purchase_amount'] < 1)).sum()"
   ]
  },
  {
   "cell_type": "code",
   "execution_count": null,
   "metadata": {},
   "outputs": [],
   "source": [
    "((hist_trans_df['purchase_amount'] >= -1) & (hist_trans_df['purchase_amount'] < 0)).sum()"
   ]
  },
  {
   "cell_type": "code",
   "execution_count": null,
   "metadata": {},
   "outputs": [],
   "source": [
    "((hist_trans_df['purchase_amount'] >= -1) & (hist_trans_df['purchase_amount'] < -0.5)).sum()"
   ]
  },
  {
   "cell_type": "code",
   "execution_count": null,
   "metadata": {},
   "outputs": [],
   "source": [
    "((hist_trans_df['purchase_amount'] >= -0.6) & (hist_trans_df['purchase_amount'] < -0.5)).sum()"
   ]
  },
  {
   "cell_type": "code",
   "execution_count": null,
   "metadata": {},
   "outputs": [],
   "source": [
    "((hist_trans_df['purchase_amount'] >= -0.7) & (hist_trans_df['purchase_amount'] < -0.6)).sum()"
   ]
  },
  {
   "cell_type": "code",
   "execution_count": null,
   "metadata": {},
   "outputs": [],
   "source": [
    "((hist_trans_df['purchase_amount'] >= -0.8) & (hist_trans_df['purchase_amount'] < -0.7)).sum()"
   ]
  },
  {
   "cell_type": "code",
   "execution_count": null,
   "metadata": {},
   "outputs": [],
   "source": [
    "((hist_trans_df['purchase_amount'] >= -0.9) & (hist_trans_df['purchase_amount'] < -0.8)).sum()"
   ]
  },
  {
   "cell_type": "code",
   "execution_count": null,
   "metadata": {},
   "outputs": [],
   "source": [
    "((hist_trans_df['purchase_amount'] >= -1) & (hist_trans_df['purchase_amount'] < -0.9)).sum()"
   ]
  },
  {
   "cell_type": "code",
   "execution_count": null,
   "metadata": {},
   "outputs": [],
   "source": [
    "((hist_trans_df['purchase_amount'] >= -0.7) & (hist_trans_df['purchase_amount'] < -0.6)).sum()"
   ]
  },
  {
   "cell_type": "code",
   "execution_count": null,
   "metadata": {},
   "outputs": [],
   "source": [
    "(hist_trans_df['purchase_amount'] < -1).sum()"
   ]
  },
  {
   "cell_type": "code",
   "execution_count": null,
   "metadata": {},
   "outputs": [],
   "source": [
    "(hist_trans_df['purchase_amount'] > 1).sum()"
   ]
  },
  {
   "cell_type": "code",
   "execution_count": null,
   "metadata": {},
   "outputs": [],
   "source": [
    "hist_trans_df['amount_class'] = np.where(hist_trans_df['purchase_amount']>=-0.50, 'HO')\n",
    "hist_trans_df['amount_class'] = np.where(hist_trans_df['purchase_amount']<-0.8, 'LO')\n",
    "hist_trans_df['amount_class'] = np.where(hist_trans_df['purchase_amount']>=-0.80, hist_trans_df['purchase_amount']<-0.79, '7J')\n",
    "hist_trans_df['amount_class'] = np.where((hist_trans_df['purchase_amount']>=-0.79 & hist_trans_df['purchase_amount']<-0.78), '7I')\n",
    "hist_trans_df['amount_class'] = np.where((hist_trans_df['purchase_amount']>=-0.78 & hist_trans_df['purchase_amount']<-0.77), '7H')\n",
    "hist_trans_df['amount_class'] = np.where((hist_trans_df['purchase_amount']>=-0.77 & hist_trans_df['purchase_amount']<-0.76), '7G')\n",
    "hist_trans_df['amount_class'] = np.where((hist_trans_df['purchase_amount']>=-0.76 & hist_trans_df['purchase_amount']<-0.75), '7F')\n",
    "hist_trans_df['amount_class'] = np.where((hist_trans_df['purchase_amount']>=-0.75 & hist_trans_df['purchase_amount']<-0.74), '7E')\n",
    "hist_trans_df['amount_class'] = np.where((hist_trans_df['purchase_amount']>=-0.74 & hist_trans_df['purchase_amount']<-0.73), '7D')\n",
    "hist_trans_df['amount_class'] = np.where((hist_trans_df['purchase_amount']>=-0.73 & hist_trans_df['purchase_amount']<-0.72), '7C')\n",
    "hist_trans_df['amount_class'] = np.where((hist_trans_df['purchase_amount']>=-0.72 & hist_trans_df['purchase_amount']<-0.71), '7B')\n",
    "hist_trans_df['amount_class'] = np.where((hist_trans_df['purchase_amount']>=-0.71 & hist_trans_df['purchase_amount']<-0.70), '7A')\n",
    "\n",
    "hist_trans_df['amount_class'] = np.where((hist_trans_df['purchase_amount']>=-0.70 & hist_trans_df['purchase_amount']<-0.69), '6J')\n",
    "hist_trans_df['amount_class'] = np.where((hist_trans_df['purchase_amount']>=-0.69 & hist_trans_df['purchase_amount']<-0.68), '6I')\n",
    "hist_trans_df['amount_class'] = np.where((hist_trans_df['purchase_amount']>=-0.68 & hist_trans_df['purchase_amount']<-0.67), '6H')\n",
    "hist_trans_df['amount_class'] = np.where((hist_trans_df['purchase_amount']>=-0.67 & hist_trans_df['purchase_amount']<-0.66), '6G')\n",
    "hist_trans_df['amount_class'] = np.where((hist_trans_df['purchase_amount']>=-0.66 & hist_trans_df['purchase_amount']<-0.65), '6F')\n",
    "hist_trans_df['amount_class'] = np.where((hist_trans_df['purchase_amount']>=-0.65 & hist_trans_df['purchase_amount']<-0.64), '6E')\n",
    "hist_trans_df['amount_class'] = np.where((hist_trans_df['purchase_amount']>=-0.64 & hist_trans_df['purchase_amount']<-0.63), '6D')\n",
    "hist_trans_df['amount_class'] = np.where((hist_trans_df['purchase_amount']>=-0.63 & hist_trans_df['purchase_amount']<-0.62), '6C')\n",
    "hist_trans_df['amount_class'] = np.where((hist_trans_df['purchase_amount']>=-0.62 & hist_trans_df['purchase_amount']<-0.61), '6B')\n",
    "hist_trans_df['amount_class'] = np.where((hist_trans_df['purchase_amount']>=-0.61 & hist_trans_df['purchase_amount']<-0.60), '6A')\n",
    "\n",
    "hist_trans_df['amount_class'] = np.where((hist_trans_df['purchase_amount']>=-0.60 & hist_trans_df['purchase_amount']<-0.59), '5J')\n",
    "hist_trans_df['amount_class'] = np.where((hist_trans_df['purchase_amount']>=-0.59 & hist_trans_df['purchase_amount']<-0.58), '5I')\n",
    "hist_trans_df['amount_class'] = np.where((hist_trans_df['purchase_amount']>=-0.58 & hist_trans_df['purchase_amount']<-0.57), '5H')\n",
    "hist_trans_df['amount_class'] = np.where((hist_trans_df['purchase_amount']>=-0.57 & hist_trans_df['purchase_amount']<-0.56), '5G')\n",
    "hist_trans_df['amount_class'] = np.where((hist_trans_df['purchase_amount']>=-0.56 & hist_trans_df['purchase_amount']<-0.55), '5F')\n",
    "hist_trans_df['amount_class'] = np.where((hist_trans_df['purchase_amount']>=-0.55 & hist_trans_df['purchase_amount']<-0.54), '5E')\n",
    "hist_trans_df['amount_class'] = np.where((hist_trans_df['purchase_amount']>=-0.54 & hist_trans_df['purchase_amount']<-0.53), '5D')\n",
    "hist_trans_df['amount_class'] = np.where((hist_trans_df['purchase_amount']>=-0.53 & hist_trans_df['purchase_amount']<-0.52), '5C')\n",
    "hist_trans_df['amount_class'] = np.where((hist_trans_df['purchase_amount']>=-0.52 & hist_trans_df['purchase_amount']<-0.51), '5B')\n",
    "hist_trans_df['amount_class'] = np.where((hist_trans_df['purchase_amount']>=-0.51 & hist_trans_df['purchase_amount']<-0.50), '5A')\n"
   ]
  },
  {
   "cell_type": "code",
   "execution_count": null,
   "metadata": {},
   "outputs": [],
   "source": []
  }
 ],
 "metadata": {
  "kernelspec": {
   "display_name": "Python 3",
   "language": "python",
   "name": "python3"
  },
  "language_info": {
   "codemirror_mode": {
    "name": "ipython",
    "version": 3
   },
   "file_extension": ".py",
   "mimetype": "text/x-python",
   "name": "python",
   "nbconvert_exporter": "python",
   "pygments_lexer": "ipython3",
   "version": "3.7.2"
  }
 },
 "nbformat": 4,
 "nbformat_minor": 2
}
